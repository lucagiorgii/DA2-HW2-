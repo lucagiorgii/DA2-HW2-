{
 "cells": [
  {
   "cell_type": "code",
   "execution_count": 17,
   "metadata": {},
   "outputs": [],
   "source": [
    "#import numpy as np, gurobipy as gp, pandas as pd\n",
    "from gurobipy import *\n",
    "import pandas as pd\n",
    "import numpy as np\n",
    "import pandas as pd\n",
    "import gurobipy as gp\n",
    "from gurobipy import GRB\n"
   ]
  },
  {
   "cell_type": "code",
   "execution_count": 28,
   "metadata": {},
   "outputs": [
    {
     "name": "stdout",
     "output_type": "stream",
     "text": [
      "Gurobi Optimizer version 10.0.1 build v10.0.1rc0 (linux64)\n",
      "\n",
      "CPU model: Intel(R) Xeon(R) Platinum 8272CL CPU @ 2.60GHz, instruction set [SSE2|AVX|AVX2|AVX512]\n",
      "Thread count: 1 physical cores, 2 logical processors, using up to 2 threads\n",
      "\n"
     ]
    },
    {
     "ename": "GurobiError",
     "evalue": "Model too large for size-limited license; visit https://www.gurobi.com/free-trial for a full license",
     "output_type": "error",
     "traceback": [
      "\u001b[0;31m---------------------------------------------------------------------------\u001b[0m",
      "\u001b[0;31mGurobiError\u001b[0m                               Traceback (most recent call last)",
      "Cell \u001b[0;32mIn[28], line 41\u001b[0m\n\u001b[1;32m     37\u001b[0m m\u001b[39m.\u001b[39maddConstrs((x\u001b[39m.\u001b[39msum(\u001b[39m'\u001b[39m\u001b[39m*\u001b[39m\u001b[39m'\u001b[39m,j) \u001b[39m<\u001b[39m\u001b[39m=\u001b[39m \u001b[39m3\u001b[39m \u001b[39mfor\u001b[39;00m j \u001b[39min\u001b[39;00m \u001b[39mrange\u001b[39m(NUM_TEAMS)), name\u001b[39m=\u001b[39m\u001b[39m\"\u001b[39m\u001b[39mmax_team_size\u001b[39m\u001b[39m\"\u001b[39m)\n\u001b[1;32m     40\u001b[0m \u001b[39m#optimize model\u001b[39;00m\n\u001b[0;32m---> 41\u001b[0m m\u001b[39m.\u001b[39;49moptimize()\n\u001b[1;32m     43\u001b[0m \u001b[39m#print the team assignments\u001b[39;00m\n\u001b[1;32m     44\u001b[0m \u001b[39mfor\u001b[39;00m v \u001b[39min\u001b[39;00m m\u001b[39m.\u001b[39mgetVars():\n",
      "File \u001b[0;32msrc/gurobipy/model.pxi:875\u001b[0m, in \u001b[0;36mgurobipy.Model.optimize\u001b[0;34m()\u001b[0m\n",
      "\u001b[0;31mGurobiError\u001b[0m: Model too large for size-limited license; visit https://www.gurobi.com/free-trial for a full license"
     ]
    }
   ],
   "source": [
    "import pandas as pd\n",
    "import gurobipy as gp\n",
    "from gurobipy import GRB\n",
    "\n",
    "# Load data from csv file\n",
    "df = pd.read_csv(\"student_data1.csv\")\n",
    "\n",
    "\n",
    "#Extract the number of students from the dataframe\n",
    "num_students = len(df)\n",
    "\n",
    "\n",
    "#Create a list of students from 0 to num_students-1 for indexing purposes\n",
    "students = list(range(num_students))\n",
    "\n",
    "\n",
    "\n",
    "#optimization model\n",
    "m = gp.Model(\"student\")\n",
    "\n",
    "#Decision variables\n",
    "#Decision variable that indicates if student i is assigned to team j\n",
    "x = m.addVars(students,students,vtype=GRB.BINARY,name=\"x\")\n",
    "\n",
    "#define objective function \n",
    "#The objective function maximizes the total preference score of all teams\n",
    "NUM_TEAMS = len(students)//2\n",
    "x = m.addVars(students, range(NUM_TEAMS), vtype=gp.GRB.BINARY, name=\"x\")\n",
    "\n",
    "\n",
    "#Add constraints\n",
    "#Each student must be assigned to exactly one team\n",
    "m.addConstrs((x.sum(i,'*') == 1 for i in students), name=\"student_team\")\n",
    "\n",
    "#Eah team must have least 2 students but at most 3 students\n",
    "m.addConstrs((x.sum('*',j) >= 2 for j in range(NUM_TEAMS)), name=\"min_team_size\")\n",
    "m.addConstrs((x.sum('*',j) <= 3 for j in range(NUM_TEAMS)), name=\"max_team_size\")\n",
    "\n",
    "\n",
    "#optimize model\n",
    "m.optimize()\n",
    "\n",
    "#print the team assignments\n",
    "for v in m.getVars():\n",
    "    if v.x > 0:\n",
    "        print(v.varName, v.x)\n",
    "\n",
    "\n"
   ]
  }
 ],
 "metadata": {
  "kernelspec": {
   "display_name": "Python 3",
   "language": "python",
   "name": "python3"
  },
  "language_info": {
   "codemirror_mode": {
    "name": "ipython",
    "version": 3
   },
   "file_extension": ".py",
   "mimetype": "text/x-python",
   "name": "python",
   "nbconvert_exporter": "python",
   "pygments_lexer": "ipython3",
   "version": "3.10.4"
  },
  "orig_nbformat": 4,
  "vscode": {
   "interpreter": {
    "hash": "3ad933181bd8a04b432d3370b9dc3b0662ad032c4dfaa4e4f1596c548f763858"
   }
  }
 },
 "nbformat": 4,
 "nbformat_minor": 2
}
