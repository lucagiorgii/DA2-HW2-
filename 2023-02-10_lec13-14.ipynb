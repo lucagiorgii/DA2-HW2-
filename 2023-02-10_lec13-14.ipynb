{
 "cells": [
  {
   "attachments": {},
   "cell_type": "markdown",
   "metadata": {},
   "source": [
    "# Forming teams via integer programs\n",
    "2023-02-10\n",
    "ESI 4611 / EIN 6905\n",
    "\n",
    "In this notebook, we will:\n",
    "1. Generate a set of students with comfort (on a scale of 1 to 5) in three different categories: \"Coding\", \"Theory\", and \"Writing\"\n",
    "2. Allocate students to teams of 2 or 3 to maximize the minimize comfort of any team"
   ]
  },
  {
   "attachments": {},
   "cell_type": "markdown",
   "metadata": {},
   "source": [
    "## Import statements"
   ]
  },
  {
   "cell_type": "code",
   "execution_count": 21,
   "metadata": {},
   "outputs": [],
   "source": [
    "import pandas as pd\n",
    "import numpy as np\n",
    "import math # for ceil\n",
    "\n",
    "# Fix the randomness\n",
    "np.random.seed(42)"
   ]
  },
  {
   "attachments": {},
   "cell_type": "markdown",
   "metadata": {},
   "source": [
    "## Generate students"
   ]
  },
  {
   "cell_type": "code",
   "execution_count": 22,
   "metadata": {},
   "outputs": [
    {
     "data": {
      "text/html": [
       "<div>\n",
       "<style scoped>\n",
       "    .dataframe tbody tr th:only-of-type {\n",
       "        vertical-align: middle;\n",
       "    }\n",
       "\n",
       "    .dataframe tbody tr th {\n",
       "        vertical-align: top;\n",
       "    }\n",
       "\n",
       "    .dataframe thead th {\n",
       "        text-align: right;\n",
       "    }\n",
       "</style>\n",
       "<table border=\"1\" class=\"dataframe\">\n",
       "  <thead>\n",
       "    <tr style=\"text-align: right;\">\n",
       "      <th></th>\n",
       "      <th>Coding</th>\n",
       "      <th>Theory</th>\n",
       "      <th>Writing</th>\n",
       "    </tr>\n",
       "  </thead>\n",
       "  <tbody>\n",
       "    <tr>\n",
       "      <th>0</th>\n",
       "      <td>1</td>\n",
       "      <td>1</td>\n",
       "      <td>1</td>\n",
       "    </tr>\n",
       "    <tr>\n",
       "      <th>1</th>\n",
       "      <td>1</td>\n",
       "      <td>2</td>\n",
       "      <td>5</td>\n",
       "    </tr>\n",
       "    <tr>\n",
       "      <th>2</th>\n",
       "      <td>1</td>\n",
       "      <td>3</td>\n",
       "      <td>3</td>\n",
       "    </tr>\n",
       "    <tr>\n",
       "      <th>3</th>\n",
       "      <td>1</td>\n",
       "      <td>3</td>\n",
       "      <td>5</td>\n",
       "    </tr>\n",
       "    <tr>\n",
       "      <th>4</th>\n",
       "      <td>1</td>\n",
       "      <td>4</td>\n",
       "      <td>1</td>\n",
       "    </tr>\n",
       "  </tbody>\n",
       "</table>\n",
       "</div>"
      ],
      "text/plain": [
       "   Coding  Theory  Writing\n",
       "0       1       1        1\n",
       "1       1       2        5\n",
       "2       1       3        3\n",
       "3       1       3        5\n",
       "4       1       4        1"
      ]
     },
     "metadata": {},
     "output_type": "display_data"
    }
   ],
   "source": [
    "# Generate a set of students with comfort (on a scale of 1 to 5) in three different categories: \"Coding\", \"Theory\", and \"Writing\"\n",
    "NUM_STUDENTS = 37\n",
    "categories = [\"Coding\", \"Theory\", \"Writing\"]\n",
    "students = [i for i in range(0, NUM_STUDENTS)]\n",
    "\n",
    "# Generate a random comfort score for each student in each category\n",
    "comfort_scores = np.random.randint(1, 6, size=(NUM_STUDENTS, len(categories)))\n",
    "\n",
    "# Sort them lexicographically by \"Coding\", then \"Theory\", then \"Writing\n",
    "comfort_scores = sorted(comfort_scores, key=lambda x: (x[0], x[1], x[2]))\n",
    "\n",
    "# Create a dictionary of the comfort of each student in each category\n",
    "# The keys are tuples of (student, category), and the values are the comfort scores\n",
    "comfort = {}\n",
    "for i in range(0, NUM_STUDENTS):\n",
    "    for j in range(0, len(categories)):\n",
    "        comfort[(i, categories[j])] = comfort_scores[i][j]\n",
    "\n",
    "# Create a dataframe of the comfort of each student in each category\n",
    "# The columns are the categories, and the rows are the students\n",
    "# There should be one row per student, one column per category, and the index will be the students\n",
    "df = pd.DataFrame(\n",
    "    # data = np.random.randint(1, 6, size=(NUM_STUDENTS, len(categories))),\n",
    "    # use the dictionary of comfort values\n",
    "    data = [[comfort[(i,j)] for j in categories] for i in students],\n",
    "    columns=categories,\n",
    "    index=students,\n",
    ")\n",
    "\n",
    "display(df.head())"
   ]
  },
  {
   "cell_type": "code",
   "execution_count": 23,
   "metadata": {},
   "outputs": [
    {
     "ename": "ModuleNotFoundError",
     "evalue": "No module named 'matplotlib'",
     "output_type": "error",
     "traceback": [
      "\u001b[0;31m---------------------------------------------------------------------------\u001b[0m",
      "\u001b[0;31mModuleNotFoundError\u001b[0m                       Traceback (most recent call last)",
      "Cell \u001b[0;32mIn[23], line 2\u001b[0m\n\u001b[1;32m      1\u001b[0m \u001b[38;5;66;03m# Visualize the comfort of each student in each category\u001b[39;00m\n\u001b[0;32m----> 2\u001b[0m \u001b[38;5;28;01mimport\u001b[39;00m \u001b[38;5;21;01mmatplotlib\u001b[39;00m\u001b[38;5;21;01m.\u001b[39;00m\u001b[38;5;21;01mpyplot\u001b[39;00m \u001b[38;5;28;01mas\u001b[39;00m \u001b[38;5;21;01mplt\u001b[39;00m\n\u001b[1;32m      3\u001b[0m \u001b[38;5;28;01mimport\u001b[39;00m \u001b[38;5;21;01mseaborn\u001b[39;00m \u001b[38;5;28;01mas\u001b[39;00m \u001b[38;5;21;01msns\u001b[39;00m\n\u001b[1;32m      5\u001b[0m fig, ax \u001b[38;5;241m=\u001b[39m plt\u001b[38;5;241m.\u001b[39msubplots(figsize\u001b[38;5;241m=\u001b[39m(\u001b[38;5;241m10\u001b[39m, \u001b[38;5;241m10\u001b[39m))\n",
      "\u001b[0;31mModuleNotFoundError\u001b[0m: No module named 'matplotlib'"
     ]
    }
   ],
   "source": [
    "# Visualize the comfort of each student in each category\n",
    "import matplotlib.pyplot as plt\n",
    "import seaborn as sns\n",
    "\n",
    "fig, ax = plt.subplots(figsize=(10, 10))\n",
    "sns.heatmap(df, annot=True, cmap=\"YlGnBu\", ax=ax)\n",
    "ax.set_title(\"Comfort of Students in Each Category\")\n",
    "plt.show()"
   ]
  },
  {
   "cell_type": "code",
   "execution_count": null,
   "metadata": {},
   "outputs": [
    {
     "data": {
      "image/png": "[encoded data removed]",
      "text/plain": [
       "<Figure size 2000x500 with 3 Axes>"
      ]
     },
     "metadata": {},
     "output_type": "display_data"
    }
   ],
   "source": [
    "# Plot 3 bar plots showing the frequency of the comfort of each student in each category with each x-axis being 1, 2, 3, 4, 5\n",
    "fig, ax = plt.subplots(1, 3, figsize=(20, 5))\n",
    "for i, category in enumerate(categories):\n",
    "    # Make histogram for category\n",
    "    sns.histplot(df[category], ax=ax[i], kde=False, discrete=True)\n",
    "    ax[i].set_title(f\"Comfort of Students in {category}\")\n",
    "plt.show()"
   ]
  },
  {
   "attachments": {},
   "cell_type": "markdown",
   "metadata": {},
   "source": [
    "## Create integer programming model\n",
    "\n",
    "Variables\n",
    "1. x_{ij} binary, representing that student i is assigned to team j\n",
    "2. y_{j} binary, representing if the team exists\n",
    "3. z, representing the minimum comfort of any team\n",
    "4. comfort_j, representing the comfort of team j\n",
    "\n",
    "Objective: maximize the minimum comfort of any team\n",
    "max { min_{j \\in Teams} comfort_j } --> nonlinear\n",
    "max z\n",
    "\n",
    "Constraints:\n",
    "1. Each student is in exactly one team\n",
    "\n",
    "\\sum_{j \\in Teams} x_{ij} = 1 for all i \\in Students\n",
    "\n",
    "2. Number of students on a team is at least 2 *if* that team is not empty\n",
    "\n",
    "\\sum_{i \\in Students} x_{ij} \\ge 2 y_{j} for all j \\in Teams\n",
    "\n",
    "3. Number of students on a teams is at most 3\n",
    "\n",
    "\\sum_{i \\in Students} x_{ij} \\le 3 y_{j} for all j \\in Teams\n",
    "\n",
    "4. z represents the minimum comfort of any team\n",
    "\n",
    "z \\le comfort_j + 45 (1-y_j) for all j \\in Teams\n",
    "\n",
    "5. comfort_j is the comfort of team j, weighted by category\n",
    "\n",
    "comfort_j = \n",
    "    \\sum_{k \\in Categories} weight[categories[k]] * \\sum_{i \\in Students} comfort[(i, categories[k])] x_{ij}\n",
    "\n",
    "6. Other constraints as needed (number of teams, minimum comfort level in any category, etc.). For example, to view teams more easily, you may want to sort them by their total weighted comfort.\n",
    "\n",
    "comfort_j \\ge comfort_{j-1} for all j \\in Teams \\setminus \\{0}"
   ]
  },
  {
   "attachments": {},
   "cell_type": "markdown",
   "metadata": {},
   "source": [
    "### Prepare model: import statements"
   ]
  },
  {
   "cell_type": "code",
   "execution_count": null,
   "metadata": {},
   "outputs": [
    {
     "name": "stdout",
     "output_type": "stream",
     "text": [
      "\n",
      "\u001b[1m[\u001b[0m\u001b[34;49mnotice\u001b[0m\u001b[1;39;49m]\u001b[0m\u001b[39;49m A new release of pip available: \u001b[0m\u001b[31;49m22.3.1\u001b[0m\u001b[39;49m -> \u001b[0m\u001b[32;49m23.0\u001b[0m\n",
      "\u001b[1m[\u001b[0m\u001b[34;49mnotice\u001b[0m\u001b[1;39;49m]\u001b[0m\u001b[39;49m To update, run: \u001b[0m\u001b[32;49mpip install --upgrade pip\u001b[0m\n",
      "Note: you may need to restart the kernel to use updated packages.\n"
     ]
    }
   ],
   "source": [
    "# Use Gurobi to create teams of 2 or 3 students\n",
    "# The df dataframe contains the comfort of each student in coding, theory, and writing\n",
    "# The goal is to maximize the minimum total comfort of any team\n",
    "%pip install -q gurobipy\n",
    "import gurobipy as gp"
   ]
  },
  {
   "attachments": {},
   "cell_type": "markdown",
   "metadata": {},
   "source": [
    "### Build model: instantiate"
   ]
  },
  {
   "cell_type": "code",
   "execution_count": null,
   "metadata": {},
   "outputs": [
    {
     "name": "stdout",
     "output_type": "stream",
     "text": [
      "Restricted license - for non-production use only - expires 2024-10-28\n"
     ]
    }
   ],
   "source": [
    "# Create a new model\n",
    "m = gp.Model(\"team-formation\")"
   ]
  },
  {
   "attachments": {},
   "cell_type": "markdown",
   "metadata": {},
   "source": [
    "### Build model: add variables"
   ]
  },
  {
   "cell_type": "code",
   "execution_count": null,
   "metadata": {},
   "outputs": [],
   "source": [
    "# Create variables\n",
    "# variable x[i,j] is 1 if student i is in team j and 0 otherwise\n",
    "# variable y[j] is 1 if team j has at least 2 students and 0 otherwise\n",
    "# there are at most as many teams as number of students / 2\n",
    "NUM_TEAMS = len(students)//2\n",
    "x = m.addVars(students, range(NUM_TEAMS), vtype=gp.GRB.BINARY, name=\"x\")\n",
    "y = m.addVars(range(NUM_TEAMS), vtype=gp.GRB.BINARY, name=\"y\")\n",
    "\n",
    "# We create an auxiliary variable s[j] that is the score of team j\n",
    "# The score of a team is the sum of the comfort of each student in each category\n",
    "# We then maximize the minimum of the scores of all teams\n",
    "s = m.addVars(range(NUM_TEAMS), name=\"s\")\n",
    "\n",
    "# We add an auxiliary variable z that is the minimum of the scores of all teams\n",
    "z = m.addVar(name=\"z\")"
   ]
  },
  {
   "attachments": {},
   "cell_type": "markdown",
   "metadata": {},
   "source": [
    "### Build model: add objective"
   ]
  },
  {
   "cell_type": "code",
   "execution_count": null,
   "metadata": {},
   "outputs": [],
   "source": [
    "# Create linear objective\n",
    "# The objective is to maximize z, the minimum score of any team, as well as to minimize the number of teams\n",
    "# There is another part to this objective, that is currently not being used because the model below makes the total number of teams a constant (making the y variables redundant)\n",
    "z_wt = 1\n",
    "m.setObjective(z_wt * z - (1 - z_wt) * gp.quicksum(y[j] for j in range(NUM_TEAMS)), gp.GRB.MAXIMIZE)"
   ]
  },
  {
   "attachments": {},
   "cell_type": "markdown",
   "metadata": {},
   "source": [
    "### Build model: add constraints"
   ]
  },
  {
   "cell_type": "code",
   "execution_count": null,
   "metadata": {},
   "outputs": [
    {
     "data": {
      "text/plain": [
       "{0: <gurobi.Constr *Awaiting Model Update*>,\n",
       " 1: <gurobi.Constr *Awaiting Model Update*>,\n",
       " 2: <gurobi.Constr *Awaiting Model Update*>,\n",
       " 3: <gurobi.Constr *Awaiting Model Update*>,\n",
       " 4: <gurobi.Constr *Awaiting Model Update*>,\n",
       " 5: <gurobi.Constr *Awaiting Model Update*>,\n",
       " 6: <gurobi.Constr *Awaiting Model Update*>,\n",
       " 7: <gurobi.Constr *Awaiting Model Update*>,\n",
       " 8: <gurobi.Constr *Awaiting Model Update*>,\n",
       " 9: <gurobi.Constr *Awaiting Model Update*>,\n",
       " 10: <gurobi.Constr *Awaiting Model Update*>,\n",
       " 11: <gurobi.Constr *Awaiting Model Update*>,\n",
       " 12: <gurobi.Constr *Awaiting Model Update*>,\n",
       " 13: <gurobi.Constr *Awaiting Model Update*>,\n",
       " 14: <gurobi.Constr *Awaiting Model Update*>,\n",
       " 15: <gurobi.Constr *Awaiting Model Update*>,\n",
       " 16: <gurobi.Constr *Awaiting Model Update*>}"
      ]
     },
     "execution_count": 9,
     "metadata": {},
     "output_type": "execute_result"
    }
   ],
   "source": [
    "# Add constraints\n",
    "\n",
    "# each student is in exactly one team\n",
    "m.addConstrs(\n",
    "    gp.quicksum(x[i,j] for j in range(len(students)//2)) == 1\n",
    "    for i in students\n",
    ")\n",
    "\n",
    "# each team has at least 2 students\n",
    "m.addConstrs(\n",
    "    gp.quicksum(x[i,j] for i in students) >= 2 * y[j]\n",
    "    for j in range(len(students)//2)\n",
    ")\n",
    "\n",
    "# each team has at most 3 students\n",
    "m.addConstrs(\n",
    "    gp.quicksum(x[i,j] for i in students) <= 3 * y[j]\n",
    "    for j in range(len(students)//2)\n",
    ")\n",
    "\n",
    "# z is the minimum of the scores of all teams\n",
    "BIG_M = 45\n",
    "m.addConstrs(\n",
    "    z <= s[j] + BIG_M * (1 - y[j])\n",
    "    for j in range(len(students)//2)\n",
    ")\n",
    "\n",
    "# s[j] is the score of team j, where each category is weighted\n",
    "weight = [6, 3, 1]\n",
    "weight = [1, 0, 0]\n",
    "weight = [1, 1, 1]\n",
    "m.addConstrs(\n",
    "    s[j] == gp.quicksum(\n",
    "        gp.quicksum(\n",
    "            weight[k] * comfort[(i,categories[k])] * x[i,j]\n",
    "            for k in range(len(categories))\n",
    "        )\n",
    "        for i in students\n",
    "    )\n",
    "    for j in range(len(students)//2)\n",
    ")\n",
    "\n",
    "# Add constraint that total number of teams is ceil(number of students / 3) --> this actually makes the y variables unnecessary, I think\n",
    "m.addConstr(gp.quicksum([y[j] for j in range(NUM_TEAMS)]) == math.ceil(len(students) / 3))\n",
    "\n",
    "# Add constraint for minimum coding score for each team with at least one student\n",
    "MIN_CODING_SCORE = 7\n",
    "m.addConstrs(gp.quicksum(comfort[(i,categories[0])] * x[i,j] for i in students) >= MIN_CODING_SCORE * y[j] for j in range(NUM_TEAMS))\n",
    "\n",
    "# Make teams ordered by comfort\n",
    "m.addConstrs(s[j] <= s[j+1] for j in range(NUM_TEAMS-1))"
   ]
  },
  {
   "cell_type": "code",
   "execution_count": null,
   "metadata": {},
   "outputs": [
    {
     "ename": "NameError",
     "evalue": "name 'm' is not defined",
     "output_type": "error",
     "traceback": [
      "\u001b[0;31m---------------------------------------------------------------------------\u001b[0m",
      "\u001b[0;31mNameError\u001b[0m                                 Traceback (most recent call last)",
      "Cell \u001b[0;32mIn[1], line 2\u001b[0m\n\u001b[1;32m      1\u001b[0m \u001b[38;5;66;03m# Save model\u001b[39;00m\n\u001b[0;32m----> 2\u001b[0m \u001b[43mm\u001b[49m\u001b[38;5;241m.\u001b[39mwrite(\u001b[38;5;124m'\u001b[39m\u001b[38;5;124mteam-formation.lp\u001b[39m\u001b[38;5;124m'\u001b[39m)\n",
      "\u001b[0;31mNameError\u001b[0m: name 'm' is not defined"
     ]
    }
   ],
   "source": [
    "# Save model\n",
    "m.write('team-formation.lp')"
   ]
  },
  {
   "attachments": {},
   "cell_type": "markdown",
   "metadata": {},
   "source": [
    "## Helper functions to analyze the output"
   ]
  },
  {
   "cell_type": "code",
   "execution_count": null,
   "metadata": {},
   "outputs": [],
   "source": [
    "# Function that takes in a Gurobi model and returns a list of teams, where each team is a list of students\n",
    "def get_teams(m):\n",
    "    teams = []\n",
    "    for j in range(NUM_TEAMS):\n",
    "        if m.getVarByName('y[' + str(j) + ']').x > 0.5:\n",
    "            team = []\n",
    "            for i in range(NUM_STUDENTS):\n",
    "                if m.getVarByName('x[' + str(i) + ',' + str(j) + ']').x > 0.5:\n",
    "                    team.append(i)\n",
    "            teams.append(team)\n",
    "    return teams\n",
    "\n",
    "# Function that takes as input a list of teams and returns a table with team number, team members, total comfort, and average comfort in each category, with each category in a separate column\n",
    "def analyze_teams(teams):\n",
    "    # Compute num_two_student_teams, num_three_student_teams, avg_total_comfort, avg_comfort_by_category, min_total_comfort, max_total_comfort, min_comfort, max_comfort, total_comfort_sum, total_comfort_sum_sq, comfort_sums, comfort_sum_sqs\n",
    "    min_total_comfort = float('inf')\n",
    "    max_total_comfort = float('-inf')\n",
    "    min_comfort = [float('inf')] * len(categories)\n",
    "    max_comfort = [float('-inf')] * len(categories)\n",
    "\n",
    "    # Track standard deviation of total comfort\n",
    "    total_comfort_sum = 0\n",
    "    total_comfort_sum_sq = 0    \n",
    "\n",
    "    # Track standard deviation of scores in each category\n",
    "    comfort_sums = [0] * len(categories)\n",
    "    comfort_sum_sqs = [0] * len(categories)\n",
    "\n",
    "    # Track how many teams have two students and how many have three students\n",
    "    num_two_student_teams = 0\n",
    "    num_three_student_teams = 0\n",
    "\n",
    "    # Track average total comfort across all teams and average comfort by category\n",
    "    avg_total_comfort = 0\n",
    "    avg_comfort_by_category = [0] * len(categories)\n",
    "\n",
    "    for j in range(len(teams)):\n",
    "        # Current team\n",
    "        curr_team = teams[j]\n",
    "\n",
    "        # Compute comfort of the team\n",
    "        curr_comfort_by_category = [gp.quicksum(comfort[(i,c)] for i in curr_team).getValue() for c in categories]\n",
    "        total_comfort = sum(curr_comfort_by_category)\n",
    "\n",
    "        # Update min_total_comfort, max_total_comfort, total_comfort_sum, total_comfort_sum_sq\n",
    "        if total_comfort < min_total_comfort:\n",
    "            min_total_comfort = total_comfort\n",
    "        if total_comfort > max_total_comfort:\n",
    "            max_total_comfort = total_comfort\n",
    "        total_comfort_sum += total_comfort\n",
    "        total_comfort_sum_sq += total_comfort**2\n",
    "\n",
    "        # Update min_comfort, max_comfort, comfort_sums, comfort_sum_sqs\n",
    "        for k in range(len(categories)):\n",
    "            if curr_comfort_by_category[k] < min_comfort[k]:\n",
    "                min_comfort[k] = curr_comfort_by_category[k]\n",
    "            if curr_comfort_by_category[k] > max_comfort[k]:\n",
    "                max_comfort[k] = curr_comfort_by_category[k]\n",
    "            comfort_sums[k] += curr_comfort_by_category[k]\n",
    "            comfort_sum_sqs[k] += curr_comfort_by_category[k]**2\n",
    "\n",
    "        # Update avg_total_comfort, avg_comfort_by_category\n",
    "        avg_total_comfort += total_comfort\n",
    "        for k in range(len(categories)):\n",
    "            avg_comfort_by_category[k] += curr_comfort_by_category[k]\n",
    "\n",
    "        # Update num_two_student_teams, num_three_student_teams\n",
    "        if len(curr_team) == 2:\n",
    "            num_two_student_teams += 1\n",
    "        else:\n",
    "            num_three_student_teams += 1\n",
    "\n",
    "    # Print out the minimum/maximum/stddev total and minimum score in each category across all teams\n",
    "    print(\"\\n####################\")\n",
    "    print(\"Total number of teams:\", num_two_student_teams + num_three_student_teams)\n",
    "    print(\"Number of two-student teams:\", num_two_student_teams)\n",
    "    print(\"Number of three-student teams:\", num_three_student_teams)\n",
    "    print('The minimum total score across all teams is', min_total_comfort)\n",
    "    print('The maximum total score across all teams is', max_total_comfort)\n",
    "    print('The standard deviation of the total score across all teams is', (total_comfort_sum_sq - (total_comfort_sum**2)/NUM_TEAMS)/(NUM_TEAMS-1))\n",
    "    print('The minimum score in each category across all teams is', min_comfort)\n",
    "    print('The maximum score in each category across all teams is', max_comfort)\n",
    "    print('The standard deviation of the scores in each category across all teams is', [(comfort_sum_sqs[k] - (comfort_sums[k]**2)/NUM_TEAMS)/(NUM_TEAMS-1) for k in range(len(categories))])\n",
    "\n",
    "    # Print a table with team number, team members, total comfort, and average comfort in each category, with each category in a separate column\n",
    "    # Use fixed width columns for the table with team number having width 13, team members having width 15, total comfort having width 8, and each category having width 8\n",
    "    # In the last row, print the average across the columns Total Comfort and each category\n",
    "    # print(\"\\n####################\")\n",
    "    # print(\"Team number\".ljust(13), \"Team members\".ljust(15), \"Comfort\".ljust(8), \" \".join([category.ljust(8) for category in categories]))\n",
    "    # for j in range(len(teams)):\n",
    "    #     if my[j].x > 0.5:\n",
    "    #         print(\n",
    "    #             str(j).ljust(13), \n",
    "    #             str([i for i in students if mx[i,j].x > 0.5]).ljust(15), \n",
    "    #             # sum comfort of all students in the team\n",
    "    #             str(int(sum([gp.quicksum(comfort[(i,c)] * mx[i,j] for i in students).getValue() for c in categories]))).ljust(8),\n",
    "    #             \" \".join([str(int(round(gp.quicksum(comfort[(i,categories[k])] * mx[i,j] for i in students).getValue(), 2))).ljust(8) for k in range(len(categories))]))\n",
    "    print(\"\\n####################\")\n",
    "    print(\"Team number\".ljust(13), \"Team members\".ljust(15), \"Comfort\".ljust(8), \" \".join([category.ljust(8) for category in categories]))\n",
    "    for j in range(len(teams)):\n",
    "        curr_team = teams[j]\n",
    "        curr_comfort_by_category = [gp.quicksum(comfort[(i,c)] for i in curr_team).getValue() for c in categories]\n",
    "        curr_total_comfort = sum(curr_comfort_by_category)\n",
    "\n",
    "        print(\n",
    "            str(j).ljust(13), \n",
    "            str([i for i in curr_team]).ljust(15), \n",
    "            # sum comfort of all students in the team\n",
    "            str(int(curr_total_comfort)).ljust(8),\n",
    "            \" \".join([str(int(curr_comfort_by_category[k])).ljust(8) for k in range(len(categories))]))\n",
    "            \n",
    "\n",
    "    # Print the average, min, max, standard deviation across the columns Total Comfort and each category\n",
    "    # Format the standard deviation to only display 1 decimal place\n",
    "    print(\"Average\".ljust(13), \" \".ljust(15),\n",
    "        str(round(avg_total_comfort/(num_two_student_teams + num_three_student_teams), 2)).ljust(8),\n",
    "        \" \".join([str(round(avg_comfort_by_category[k]/(num_two_student_teams + num_three_student_teams), 2)).ljust(8) for k in range(len(categories))]))\n",
    "    print(\"Min\".ljust(13), \" \".ljust(15),\n",
    "        str(int(min_total_comfort)).ljust(8),\n",
    "        \" \".join([str(int(min_comfort[k])).ljust(8) for k in range(len(categories))]))\n",
    "    print(\"Max\".ljust(13), \" \".ljust(15),\n",
    "        str(int(max_total_comfort)).ljust(8),\n",
    "        \" \".join([str(int(max_comfort[k])).ljust(8) for k in range(len(categories))]))\n",
    "    print(\"Std Dev\".ljust(13), \" \".ljust(15),\n",
    "        str(round((total_comfort_sum_sq - (total_comfort_sum**2)/NUM_TEAMS)/(NUM_TEAMS-1), 2)).ljust(8),\n",
    "        \" \".join([str(round((comfort_sum_sqs[k] - (comfort_sums[k]**2)/NUM_TEAMS)/(NUM_TEAMS-1), 2)).ljust(8) for k in range(len(categories))]))\n",
    "\n",
    "# Analyze model\n",
    "def analyze_model(m):\n",
    "    # Check if the model is optimal\n",
    "    if m.status != gp.GRB.Status.OPTIMAL:\n",
    "        print('Optimization was stopped with status %d' % m.status)\n",
    "        # If infeasible, compute and display IIS\n",
    "        if m.status == gp.GRB.Status.INFEASIBLE:\n",
    "            m.computeIIS()\n",
    "            m.write('team-formation.ilp')\n",
    "    else:\n",
    "        # Print the objective value\n",
    "        # If optimal, analyze the solution\n",
    "        print('The objective value is', m.objVal)\n",
    "        \n",
    "        # Get teams\n",
    "        teams = get_teams(m)\n",
    "\n",
    "        analyze_teams(teams)"
   ]
  },
  {
   "cell_type": "markdown",
   "metadata": {},
   "source": [
    "## Optimize"
   ]
  },
  {
   "cell_type": "code",
   "execution_count": null,
   "metadata": {},
   "outputs": [
    {
     "ename": "NameError",
     "evalue": "name 'm' is not defined",
     "output_type": "error",
     "traceback": [
      "\u001b[0;31m---------------------------------------------------------------------------\u001b[0m",
      "\u001b[0;31mNameError\u001b[0m                                 Traceback (most recent call last)",
      "Cell \u001b[0;32mIn[5], line 2\u001b[0m\n\u001b[1;32m      1\u001b[0m z_wt \u001b[38;5;241m=\u001b[39m \u001b[38;5;241m1.0\u001b[39m\n\u001b[0;32m----> 2\u001b[0m \u001b[43mm\u001b[49m\u001b[38;5;241m.\u001b[39msetObjective(z_wt \u001b[38;5;241m*\u001b[39m z \u001b[38;5;241m-\u001b[39m (\u001b[38;5;241m1\u001b[39m\u001b[38;5;241m-\u001b[39mz_wt) \u001b[38;5;241m*\u001b[39m gp\u001b[38;5;241m.\u001b[39mquicksum(y[j] \u001b[38;5;28;01mfor\u001b[39;00m j \u001b[38;5;129;01min\u001b[39;00m \u001b[38;5;28mrange\u001b[39m(NUM_TEAMS)), gp\u001b[38;5;241m.\u001b[39mGRB\u001b[38;5;241m.\u001b[39mMAXIMIZE)\n\u001b[1;32m      5\u001b[0m \u001b[38;5;66;03m# Optimize and analyze the output\u001b[39;00m\n\u001b[1;32m      6\u001b[0m m\u001b[38;5;241m.\u001b[39moptimize()\n",
      "\u001b[0;31mNameError\u001b[0m: name 'm' is not defined"
     ]
    }
   ],
   "source": [
    "z_wt = 1.0\n",
    "m.setObjective(z_wt * z - (1-z_wt) * gp.quicksum(y[j] for j in range(NUM_TEAMS)), gp.GRB.MAXIMIZE)\n",
    "\n",
    "# Optimize and analyze the output\n",
    "m.optimize()\n",
    "\n",
    "analyze_model(m)"
   ]
  }
 ],
 "metadata": {
  "kernelspec": {
   "display_name": "Python 3.10.4 64-bit ('3.10.4')",
   "language": "python",
   "name": "python3"
  },
  "language_info": {
   "codemirror_mode": {
    "name": "ipython",
    "version": 3
   },
   "file_extension": ".py",
   "mimetype": "text/x-python",
   "name": "python",
   "nbconvert_exporter": "python",
   "pygments_lexer": "ipython3",
   "version": "3.10.4"
  },
  "orig_nbformat": 4,
  "vscode": {
   "interpreter": {
    "hash": "0dd7e8e3354b8973611686f43bf474e859d1fe01a13519cbf9a9cb47617fc657"
   }
  }
 },
 "nbformat": 4,
 "nbformat_minor": 2
}
