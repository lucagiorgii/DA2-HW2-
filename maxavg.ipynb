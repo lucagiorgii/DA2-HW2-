{
 "cells": [
  {
   "cell_type": "code",
   "execution_count": 76,
   "metadata": {},
   "outputs": [
    {
     "name": "stdout",
     "output_type": "stream",
     "text": [
      "\n",
      "\u001b[1m[\u001b[0m\u001b[34;49mnotice\u001b[0m\u001b[1;39;49m]\u001b[0m\u001b[39;49m A new release of pip available: \u001b[0m\u001b[31;49m22.2.2\u001b[0m\u001b[39;49m -> \u001b[0m\u001b[32;49m23.0.1\u001b[0m\n",
      "\u001b[1m[\u001b[0m\u001b[34;49mnotice\u001b[0m\u001b[1;39;49m]\u001b[0m\u001b[39;49m To update, run: \u001b[0m\u001b[32;49mpip install --upgrade pip\u001b[0m\n",
      "Note: you may need to restart the kernel to use updated packages.\n",
      "\n",
      "\u001b[1m[\u001b[0m\u001b[34;49mnotice\u001b[0m\u001b[1;39;49m]\u001b[0m\u001b[39;49m A new release of pip available: \u001b[0m\u001b[31;49m22.2.2\u001b[0m\u001b[39;49m -> \u001b[0m\u001b[32;49m23.0.1\u001b[0m\n",
      "\u001b[1m[\u001b[0m\u001b[34;49mnotice\u001b[0m\u001b[1;39;49m]\u001b[0m\u001b[39;49m To update, run: \u001b[0m\u001b[32;49mpip install --upgrade pip\u001b[0m\n",
      "Note: you may need to restart the kernel to use updated packages.\n",
      "\n",
      "\u001b[1m[\u001b[0m\u001b[34;49mnotice\u001b[0m\u001b[1;39;49m]\u001b[0m\u001b[39;49m A new release of pip available: \u001b[0m\u001b[31;49m22.2.2\u001b[0m\u001b[39;49m -> \u001b[0m\u001b[32;49m23.0.1\u001b[0m\n",
      "\u001b[1m[\u001b[0m\u001b[34;49mnotice\u001b[0m\u001b[1;39;49m]\u001b[0m\u001b[39;49m To update, run: \u001b[0m\u001b[32;49mpip install --upgrade pip\u001b[0m\n",
      "Note: you may need to restart the kernel to use updated packages.\n"
     ]
    }
   ],
   "source": [
    "%pip install -q gurobipy\n",
    "%pip install -q pandas\n",
    "%pip install -q numpy\n",
    "import math\n",
    "import pandas as pd\n",
    "import numpy as np\n",
    "import gurobipy as gp\n",
    "from gurobipy import GRB"
   ]
  },
  {
   "cell_type": "code",
   "execution_count": 77,
   "metadata": {},
   "outputs": [
    {
     "data": {
      "text/html": [
       "<div>\n",
       "<style scoped>\n",
       "    .dataframe tbody tr th:only-of-type {\n",
       "        vertical-align: middle;\n",
       "    }\n",
       "\n",
       "    .dataframe tbody tr th {\n",
       "        vertical-align: top;\n",
       "    }\n",
       "\n",
       "    .dataframe thead th {\n",
       "        text-align: right;\n",
       "    }\n",
       "</style>\n",
       "<table border=\"1\" class=\"dataframe\">\n",
       "  <thead>\n",
       "    <tr style=\"text-align: right;\">\n",
       "      <th></th>\n",
       "      <th>Student</th>\n",
       "      <th>Preference 1</th>\n",
       "      <th>Preference 2</th>\n",
       "    </tr>\n",
       "  </thead>\n",
       "  <tbody>\n",
       "    <tr>\n",
       "      <th>count</th>\n",
       "      <td>37.000000</td>\n",
       "      <td>37.000000</td>\n",
       "      <td>37.000000</td>\n",
       "    </tr>\n",
       "    <tr>\n",
       "      <th>mean</th>\n",
       "      <td>18.000000</td>\n",
       "      <td>15.594595</td>\n",
       "      <td>16.054054</td>\n",
       "    </tr>\n",
       "    <tr>\n",
       "      <th>std</th>\n",
       "      <td>10.824355</td>\n",
       "      <td>11.422345</td>\n",
       "      <td>11.217412</td>\n",
       "    </tr>\n",
       "    <tr>\n",
       "      <th>min</th>\n",
       "      <td>0.000000</td>\n",
       "      <td>1.000000</td>\n",
       "      <td>0.000000</td>\n",
       "    </tr>\n",
       "    <tr>\n",
       "      <th>25%</th>\n",
       "      <td>9.000000</td>\n",
       "      <td>5.000000</td>\n",
       "      <td>9.000000</td>\n",
       "    </tr>\n",
       "    <tr>\n",
       "      <th>50%</th>\n",
       "      <td>18.000000</td>\n",
       "      <td>13.000000</td>\n",
       "      <td>13.000000</td>\n",
       "    </tr>\n",
       "    <tr>\n",
       "      <th>75%</th>\n",
       "      <td>27.000000</td>\n",
       "      <td>26.000000</td>\n",
       "      <td>24.000000</td>\n",
       "    </tr>\n",
       "    <tr>\n",
       "      <th>max</th>\n",
       "      <td>36.000000</td>\n",
       "      <td>36.000000</td>\n",
       "      <td>36.000000</td>\n",
       "    </tr>\n",
       "  </tbody>\n",
       "</table>\n",
       "</div>"
      ],
      "text/plain": [
       "         Student   Preference 1   Preference 2\n",
       "count  37.000000      37.000000      37.000000\n",
       "mean   18.000000      15.594595      16.054054\n",
       "std    10.824355      11.422345      11.217412\n",
       "min     0.000000       1.000000       0.000000\n",
       "25%     9.000000       5.000000       9.000000\n",
       "50%    18.000000      13.000000      13.000000\n",
       "75%    27.000000      26.000000      24.000000\n",
       "max    36.000000      36.000000      36.000000"
      ]
     },
     "execution_count": 77,
     "metadata": {},
     "output_type": "execute_result"
    }
   ],
   "source": [
    "df = pd.read_csv(\"student_data.csv\")\n",
    "\n",
    "#Extract the number of students from the dataframe\n",
    "NUM_STUDENTS = len(df)\n",
    "\n",
    "#Create a list of students from 0 to num_students-1 for indexing purposes\n",
    "students = list(range(NUM_STUDENTS))\n",
    "\n",
    "#compute number of teams from 0 to num_teams-1 for indexing purposes\n",
    "NUM_TEAMS = len(students)//2\n",
    "\n",
    "df.describe()"
   ]
  },
  {
   "cell_type": "code",
   "execution_count": 78,
   "metadata": {},
   "outputs": [
    {
     "name": "stdout",
     "output_type": "stream",
     "text": [
      "{0: [1, 10], 1: [7, 2], 2: [19, 27], 3: [4, 24], 4: [36, 0], 5: [21, 33], 6: [8, 3], 7: [28, 16], 8: [11, 14], 9: [35, 16], 10: [2, 12], 11: [8, 22], 12: [10, 21], 13: [34, 28], 14: [3, 8], 15: [2, 17], 16: [7, 9], 17: [13, 1], 18: [26, 11], 19: [2, 35], 20: [34, 13], 21: [12, 5], 22: [32, 0], 23: [4, 32], 24: [3, 9], 25: [30, 5], 26: [18, 35], 27: [14, 2], 28: [11, 13], 29: [31, 33], 30: [25, 36], 31: [16, 10], 32: [22, 23], 33: [5, 10], 34: [13, 20], 35: [26, 9], 36: [4, 30]}\n"
     ]
    }
   ],
   "source": [
    "# Create preferences dictionary from dataframe\n",
    "preferences = {}\n",
    "for i in students:\n",
    "    preferences[i] = df.iloc[i,1:6].tolist()\n",
    "print(preferences)"
   ]
  },
  {
   "cell_type": "code",
   "execution_count": 79,
   "metadata": {},
   "outputs": [
    {
     "name": "stdout",
     "output_type": "stream",
     "text": [
      "<gurobi.Var *Awaiting Model Update*>\n"
     ]
    }
   ],
   "source": [
    "m = gp.Model(\"student-teams\")\n",
    "\n",
    "# Create variables\n",
    "# variable x[i,j] is 1 if student i is in team j and 0 otherwise\n",
    "# variable y[j] is 1 if team j has at least 2 students and 0 otherwise\n",
    "# there are at most as many teams as number of students / 2\n",
    "NUM_TEAMS = len(students)//2\n",
    "x = m.addVars(students, range(NUM_TEAMS), vtype=gp.GRB.BINARY, name=\"x\")\n",
    "y = m.addVars(range(NUM_TEAMS), vtype=gp.GRB.BINARY, name=\"y\")\n",
    "\n",
    "# We create an auxiliary variable s[j] that is the score of team j\n",
    "# The score of a team is the sum of the comfort of each student in each category\n",
    "# We then maximize the minimum of the scores of all teams\n",
    "s = m.addVars(range(NUM_TEAMS), name=\"s\")\n",
    "\n",
    "# We add an auxiliary variable z that is the minimum of the scores of all teams\n",
    "z = m.addVar(name=\"z\")\n",
    "\n",
    "#decision variable that indicates if student i is assigned to their first choice\n",
    "z1 = m.addVars(range(NUM_TEAMS), vtype=gp.GRB.BINARY, name=\"z\")\n",
    "print(z)\n",
    "\n",
    "#decision variable that indicates if student i is assigned to their second choice\n",
    "z2 = m.addVars(range(NUM_TEAMS), vtype=gp.GRB.BINARY, name=\"z2\")\n",
    "\n",
    "#decision variable that indicates if student i is assigned to their third choice\n",
    "z3 = m.addVars(range(NUM_TEAMS), vtype=gp.GRB.BINARY, name=\"z3\")\n"
   ]
  },
  {
   "cell_type": "code",
   "execution_count": 80,
   "metadata": {},
   "outputs": [],
   "source": [
    "# Create linear objective\n",
    "# The objective is to maximize z, the minimum score of any team, as well as to minimize the number of teams\n",
    "# There is another part to this objective, that is currently not being used because the model below makes the total number of teams a constant (making the y variables redundant)\n",
    "z_wt = 1\n",
    "m.setObjective(z_wt * z - (1 - z_wt) * gp.quicksum(y[j] for j in range(NUM_TEAMS)), gp.GRB.MAXIMIZE)"
   ]
  },
  {
   "cell_type": "code",
   "execution_count": 81,
   "metadata": {},
   "outputs": [
    {
     "ename": "IndexError",
     "evalue": "list index out of range",
     "output_type": "error",
     "traceback": [
      "\u001b[0;31m---------------------------------------------------------------------------\u001b[0m",
      "\u001b[0;31mIndexError\u001b[0m                                Traceback (most recent call last)",
      "Cell \u001b[0;32mIn[81], line 28\u001b[0m\n\u001b[1;32m     22\u001b[0m BIG_M \u001b[38;5;241m=\u001b[39m \u001b[38;5;241m45\u001b[39m\n\u001b[1;32m     23\u001b[0m m\u001b[38;5;241m.\u001b[39maddConstrs(\n\u001b[1;32m     24\u001b[0m     z \u001b[38;5;241m<\u001b[39m\u001b[38;5;241m=\u001b[39m s[j] \u001b[38;5;241m+\u001b[39m BIG_M \u001b[38;5;241m*\u001b[39m (\u001b[38;5;241m1\u001b[39m \u001b[38;5;241m-\u001b[39m y[j])\n\u001b[1;32m     25\u001b[0m     \u001b[38;5;28;01mfor\u001b[39;00m j \u001b[38;5;129;01min\u001b[39;00m \u001b[38;5;28mrange\u001b[39m(\u001b[38;5;28mlen\u001b[39m(students)\u001b[38;5;241m/\u001b[39m\u001b[38;5;241m/\u001b[39m\u001b[38;5;241m2\u001b[39m))\n\u001b[0;32m---> 28\u001b[0m \u001b[43mm\u001b[49m\u001b[38;5;241;43m.\u001b[39;49m\u001b[43maddConstrs\u001b[49m\u001b[43m(\u001b[49m\n\u001b[1;32m     29\u001b[0m \u001b[43m    \u001b[49m\u001b[43ms\u001b[49m\u001b[43m[\u001b[49m\u001b[43mj\u001b[49m\u001b[43m]\u001b[49m\u001b[43m \u001b[49m\u001b[38;5;241;43m==\u001b[39;49m\u001b[43m \u001b[49m\u001b[43mgp\u001b[49m\u001b[38;5;241;43m.\u001b[39;49m\u001b[43mquicksum\u001b[49m\u001b[43m(\u001b[49m\u001b[43m[\u001b[49m\n\u001b[1;32m     30\u001b[0m \u001b[43m        \u001b[49m\u001b[43mgp\u001b[49m\u001b[38;5;241;43m.\u001b[39;49m\u001b[43mquicksum\u001b[49m\u001b[43m(\u001b[49m\u001b[43m[\u001b[49m\n\u001b[1;32m     31\u001b[0m \u001b[43m            \u001b[49m\u001b[38;5;241;43m1000\u001b[39;49m\u001b[38;5;241;43m*\u001b[39;49m\u001b[43mx\u001b[49m\u001b[43m[\u001b[49m\u001b[43mpreferences\u001b[49m\u001b[43m[\u001b[49m\u001b[43mj\u001b[49m\u001b[43m]\u001b[49m\u001b[43m[\u001b[49m\u001b[43mi\u001b[49m\u001b[43m]\u001b[49m\u001b[43m,\u001b[49m\u001b[43mj\u001b[49m\u001b[43m]\u001b[49m\n\u001b[1;32m     32\u001b[0m \u001b[43m        \u001b[49m\u001b[43m]\u001b[49m\u001b[43m)\u001b[49m\n\u001b[1;32m     33\u001b[0m \u001b[43m        \u001b[49m\u001b[38;5;28;43;01mfor\u001b[39;49;00m\u001b[43m \u001b[49m\u001b[43mi\u001b[49m\u001b[43m \u001b[49m\u001b[38;5;129;43;01min\u001b[39;49;00m\u001b[43m \u001b[49m\u001b[43mstudents\u001b[49m\n\u001b[1;32m     34\u001b[0m \u001b[43m    \u001b[49m\u001b[43m]\u001b[49m\u001b[43m)\u001b[49m\n\u001b[1;32m     35\u001b[0m \u001b[43m    \u001b[49m\u001b[38;5;28;43;01mfor\u001b[39;49;00m\u001b[43m \u001b[49m\u001b[43mj\u001b[49m\u001b[43m \u001b[49m\u001b[38;5;129;43;01min\u001b[39;49;00m\u001b[43m \u001b[49m\u001b[38;5;28;43mrange\u001b[39;49m\u001b[43m(\u001b[49m\u001b[38;5;28;43mlen\u001b[39;49m\u001b[43m(\u001b[49m\u001b[43mstudents\u001b[49m\u001b[43m)\u001b[49m\u001b[38;5;241;43m/\u001b[39;49m\u001b[38;5;241;43m/\u001b[39;49m\u001b[38;5;241;43m2\u001b[39;49m\u001b[43m)\u001b[49m\n\u001b[1;32m     36\u001b[0m \u001b[43m)\u001b[49m\n\u001b[1;32m     40\u001b[0m \u001b[38;5;66;03m# Add constraint that total number of teams is ceil(number of students / 3) --> this actually makes the y variables unnecessary, I think\u001b[39;00m\n\u001b[1;32m     41\u001b[0m m\u001b[38;5;241m.\u001b[39maddConstr(gp\u001b[38;5;241m.\u001b[39mquicksum([y[j] \u001b[38;5;28;01mfor\u001b[39;00m j \u001b[38;5;129;01min\u001b[39;00m \u001b[38;5;28mrange\u001b[39m(NUM_TEAMS)]) \u001b[38;5;241m==\u001b[39m math\u001b[38;5;241m.\u001b[39mceil(\u001b[38;5;28mlen\u001b[39m(students) \u001b[38;5;241m/\u001b[39m \u001b[38;5;241m3\u001b[39m))\n",
      "File \u001b[0;32msrc/gurobipy/model.pxi:3755\u001b[0m, in \u001b[0;36mgurobipy.Model.addConstrs\u001b[0;34m()\u001b[0m\n",
      "Cell \u001b[0;32mIn[81], line 29\u001b[0m, in \u001b[0;36m<genexpr>\u001b[0;34m(.0)\u001b[0m\n\u001b[1;32m     22\u001b[0m BIG_M \u001b[38;5;241m=\u001b[39m \u001b[38;5;241m45\u001b[39m\n\u001b[1;32m     23\u001b[0m m\u001b[38;5;241m.\u001b[39maddConstrs(\n\u001b[1;32m     24\u001b[0m     z \u001b[38;5;241m<\u001b[39m\u001b[38;5;241m=\u001b[39m s[j] \u001b[38;5;241m+\u001b[39m BIG_M \u001b[38;5;241m*\u001b[39m (\u001b[38;5;241m1\u001b[39m \u001b[38;5;241m-\u001b[39m y[j])\n\u001b[1;32m     25\u001b[0m     \u001b[38;5;28;01mfor\u001b[39;00m j \u001b[38;5;129;01min\u001b[39;00m \u001b[38;5;28mrange\u001b[39m(\u001b[38;5;28mlen\u001b[39m(students)\u001b[38;5;241m/\u001b[39m\u001b[38;5;241m/\u001b[39m\u001b[38;5;241m2\u001b[39m))\n\u001b[1;32m     28\u001b[0m m\u001b[38;5;241m.\u001b[39maddConstrs(\n\u001b[0;32m---> 29\u001b[0m     s[j] \u001b[38;5;241m==\u001b[39m gp\u001b[38;5;241m.\u001b[39mquicksum([\n\u001b[1;32m     30\u001b[0m         gp\u001b[38;5;241m.\u001b[39mquicksum([\n\u001b[1;32m     31\u001b[0m             \u001b[38;5;241m1000\u001b[39m\u001b[38;5;241m*\u001b[39mx[preferences[j][i],j]\n\u001b[1;32m     32\u001b[0m         ])\n\u001b[1;32m     33\u001b[0m         \u001b[38;5;28;01mfor\u001b[39;00m i \u001b[38;5;129;01min\u001b[39;00m students\n\u001b[1;32m     34\u001b[0m     ])\n\u001b[1;32m     35\u001b[0m     \u001b[38;5;28;01mfor\u001b[39;00m j \u001b[38;5;129;01min\u001b[39;00m \u001b[38;5;28mrange\u001b[39m(\u001b[38;5;28mlen\u001b[39m(students)\u001b[38;5;241m/\u001b[39m\u001b[38;5;241m/\u001b[39m\u001b[38;5;241m2\u001b[39m)\n\u001b[1;32m     36\u001b[0m )\n\u001b[1;32m     40\u001b[0m \u001b[38;5;66;03m# Add constraint that total number of teams is ceil(number of students / 3) --> this actually makes the y variables unnecessary, I think\u001b[39;00m\n\u001b[1;32m     41\u001b[0m m\u001b[38;5;241m.\u001b[39maddConstr(gp\u001b[38;5;241m.\u001b[39mquicksum([y[j] \u001b[38;5;28;01mfor\u001b[39;00m j \u001b[38;5;129;01min\u001b[39;00m \u001b[38;5;28mrange\u001b[39m(NUM_TEAMS)]) \u001b[38;5;241m==\u001b[39m math\u001b[38;5;241m.\u001b[39mceil(\u001b[38;5;28mlen\u001b[39m(students) \u001b[38;5;241m/\u001b[39m \u001b[38;5;241m3\u001b[39m))\n",
      "Cell \u001b[0;32mIn[81], line 31\u001b[0m, in \u001b[0;36m<listcomp>\u001b[0;34m(.0)\u001b[0m\n\u001b[1;32m     22\u001b[0m BIG_M \u001b[38;5;241m=\u001b[39m \u001b[38;5;241m45\u001b[39m\n\u001b[1;32m     23\u001b[0m m\u001b[38;5;241m.\u001b[39maddConstrs(\n\u001b[1;32m     24\u001b[0m     z \u001b[38;5;241m<\u001b[39m\u001b[38;5;241m=\u001b[39m s[j] \u001b[38;5;241m+\u001b[39m BIG_M \u001b[38;5;241m*\u001b[39m (\u001b[38;5;241m1\u001b[39m \u001b[38;5;241m-\u001b[39m y[j])\n\u001b[1;32m     25\u001b[0m     \u001b[38;5;28;01mfor\u001b[39;00m j \u001b[38;5;129;01min\u001b[39;00m \u001b[38;5;28mrange\u001b[39m(\u001b[38;5;28mlen\u001b[39m(students)\u001b[38;5;241m/\u001b[39m\u001b[38;5;241m/\u001b[39m\u001b[38;5;241m2\u001b[39m))\n\u001b[1;32m     28\u001b[0m m\u001b[38;5;241m.\u001b[39maddConstrs(\n\u001b[1;32m     29\u001b[0m     s[j] \u001b[38;5;241m==\u001b[39m gp\u001b[38;5;241m.\u001b[39mquicksum([\n\u001b[1;32m     30\u001b[0m         gp\u001b[38;5;241m.\u001b[39mquicksum([\n\u001b[0;32m---> 31\u001b[0m             \u001b[38;5;241m1000\u001b[39m\u001b[38;5;241m*\u001b[39mx[\u001b[43mpreferences\u001b[49m\u001b[43m[\u001b[49m\u001b[43mj\u001b[49m\u001b[43m]\u001b[49m\u001b[43m[\u001b[49m\u001b[43mi\u001b[49m\u001b[43m]\u001b[49m,j]\n\u001b[1;32m     32\u001b[0m         ])\n\u001b[1;32m     33\u001b[0m         \u001b[38;5;28;01mfor\u001b[39;00m i \u001b[38;5;129;01min\u001b[39;00m students\n\u001b[1;32m     34\u001b[0m     ])\n\u001b[1;32m     35\u001b[0m     \u001b[38;5;28;01mfor\u001b[39;00m j \u001b[38;5;129;01min\u001b[39;00m \u001b[38;5;28mrange\u001b[39m(\u001b[38;5;28mlen\u001b[39m(students)\u001b[38;5;241m/\u001b[39m\u001b[38;5;241m/\u001b[39m\u001b[38;5;241m2\u001b[39m)\n\u001b[1;32m     36\u001b[0m )\n\u001b[1;32m     40\u001b[0m \u001b[38;5;66;03m# Add constraint that total number of teams is ceil(number of students / 3) --> this actually makes the y variables unnecessary, I think\u001b[39;00m\n\u001b[1;32m     41\u001b[0m m\u001b[38;5;241m.\u001b[39maddConstr(gp\u001b[38;5;241m.\u001b[39mquicksum([y[j] \u001b[38;5;28;01mfor\u001b[39;00m j \u001b[38;5;129;01min\u001b[39;00m \u001b[38;5;28mrange\u001b[39m(NUM_TEAMS)]) \u001b[38;5;241m==\u001b[39m math\u001b[38;5;241m.\u001b[39mceil(\u001b[38;5;28mlen\u001b[39m(students) \u001b[38;5;241m/\u001b[39m \u001b[38;5;241m3\u001b[39m))\n",
      "\u001b[0;31mIndexError\u001b[0m: list index out of range"
     ]
    }
   ],
   "source": [
    "# Add constraints\n",
    "\n",
    "# each student is in exactly one team\n",
    "m.addConstrs(\n",
    "    gp.quicksum(x[i,j] for j in range(len(students)//2)) == 1\n",
    "    for i in students\n",
    ")\n",
    "\n",
    "# each team has at least 2 students\n",
    "m.addConstrs(\n",
    "    gp.quicksum(x[i,j] for i in students) >= 2 * y[j]\n",
    "    for j in range(len(students)//2)\n",
    ")\n",
    "\n",
    "# each team has at most 3 students\n",
    "m.addConstrs(\n",
    "    gp.quicksum(x[i,j] for i in students) <= 3 * y[j]\n",
    "    for j in range(len(students)//2)\n",
    ")\n",
    "\n",
    "# z is the minimum of the scores of all teams\n",
    "BIG_M = 45\n",
    "m.addConstrs(\n",
    "    z <= s[j] + BIG_M * (1 - y[j])\n",
    "    for j in range(len(students)//2))\n",
    "\n",
    "\n",
    "m.addConstrs(\n",
    "    s[j] == gp.quicksum([\n",
    "        gp.quicksum([\n",
    "            1000*x[preferences[i][0],j]\n",
    "        ])\n",
    "        for i in students\n",
    "    ])\n",
    "    for j in range(len(students)//2)\n",
    ")\n",
    "\n",
    "\n",
    "\n",
    "# Add constraint that total number of teams is ceil(number of students / 3) --> this actually makes the y variables unnecessary, I think\n",
    "m.addConstr(gp.quicksum([y[j] for j in range(NUM_TEAMS)]) == math.ceil(len(students) / 3))\n",
    "\n",
    "# Make teams ordered by preferences score\n",
    "m.addConstrs(s[j] <= s[j+1] for j in range(NUM_TEAMS-1))\n",
    "\n",
    "# Save model\n",
    "m.write('student-teams.lp')"
   ]
  },
  {
   "cell_type": "code",
   "execution_count": null,
   "metadata": {},
   "outputs": [],
   "source": [
    "# Analyze model\n",
    "def analyze_model(m):\n",
    "    # Check if the model is optimal\n",
    "    if m.status == gp.GRB.Status.OPTIMAL:\n",
    "        print(\"Optimal!\")\n",
    "    if m.status != gp.GRB.Status.OPTIMAL:\n",
    "        print('Optimization was stopped with status %d' % m.status)\n",
    "        # If infeasible, compute and display IIS\n",
    "        if m.status == gp.GRB.Status.INFEASIBLE:\n",
    "            m.computeIIS()\n",
    "            m.write('team-formation.ilp')\n",
    "\n",
    "def get_teams(m):\n",
    "    teams = []\n",
    "    for j in range(NUM_TEAMS):\n",
    "        if m.getVarByName('y[' + str(j) + ']').x > 0.5:\n",
    "            team = []\n",
    "            for i in range(NUM_STUDENTS):\n",
    "                if m.getVarByName('x[' + str(i) + ',' + str(j) + ']').x > 0.5:\n",
    "                    team.append(i)\n",
    "            teams.append(team)\n",
    "    return teams\n"
   ]
  },
  {
   "cell_type": "code",
   "execution_count": null,
   "metadata": {},
   "outputs": [
    {
     "name": "stdout",
     "output_type": "stream",
     "text": [
      "Gurobi Optimizer version 10.0.1 build v10.0.1rc0 (linux64)\n",
      "\n",
      "CPU model: Intel(R) Core(TM) i7-8700 CPU @ 3.20GHz, instruction set [SSE2|AVX|AVX2]\n",
      "Thread count: 6 physical cores, 12 logical processors, using up to 12 threads\n",
      "\n",
      "Optimize a model with 127 rows, 757 columns and 2626 nonzeros\n",
      "Model fingerprint: 0x9a5909fc\n",
      "Variable types: 19 continuous, 738 integer (738 binary)\n",
      "Coefficient statistics:\n",
      "  Matrix range     [1e+00, 3e+03]\n",
      "  Objective range  [1e+00, 1e+00]\n",
      "  Bounds range     [1e+00, 1e+00]\n",
      "  RHS range        [1e+00, 4e+01]\n",
      "Presolve removed 0 rows and 56 columns\n",
      "Presolve time: 0.01s\n",
      "Presolved: 127 rows, 701 columns, 2618 nonzeros\n",
      "Variable types: 0 continuous, 701 integer (682 binary)\n",
      "\n",
      "Root relaxation: objective 2.068056e+03, 506 iterations, 0.01 seconds (0.01 work units)\n",
      "\n",
      "    Nodes    |    Current Node    |     Objective Bounds      |     Work\n",
      " Expl Unexpl |  Obj  Depth IntInf | Incumbent    BestBd   Gap | It/Node Time\n",
      "\n",
      "     0     0 2068.05556    0   58          - 2068.05556      -     -    0s\n",
      "H    0     0                      45.0000000 2068.05556  4496%     -    0s\n",
      "\n",
      "Cutting planes:\n",
      "  Gomory: 2\n",
      "  Cover: 8\n",
      "  Clique: 54\n",
      "  MIR: 11\n",
      "  StrongCG: 3\n",
      "  Zero half: 2\n",
      "  RLT: 29\n",
      "  Relax-and-lift: 14\n",
      "\n",
      "Explored 1 nodes (989 simplex iterations) in 0.07 seconds (0.03 work units)\n",
      "Thread count was 12 (of 12 available processors)\n",
      "\n",
      "Solution count 1: 45 \n",
      "\n",
      "Optimal solution found (tolerance 1.00e-04)\n",
      "Best objective 4.500000000000e+01, best bound 4.500000000000e+01, gap 0.0000%\n"
     ]
    },
    {
     "data": {
      "text/plain": [
       "[[8, 15],\n",
       " [0, 22, 36],\n",
       " [1, 16, 23],\n",
       " [32, 35],\n",
       " [6, 7, 27],\n",
       " [9, 20, 26],\n",
       " [17, 33, 34],\n",
       " [5, 14, 24],\n",
       " [21, 29, 30],\n",
       " [13, 18, 31],\n",
       " [10, 11, 25],\n",
       " [4, 12, 19],\n",
       " [2, 3, 28]]"
      ]
     },
     "execution_count": 75,
     "metadata": {},
     "output_type": "execute_result"
    }
   ],
   "source": [
    "z_wt = 1.0\n",
    "m.setObjective(z_wt * z - (1-z_wt) * gp.quicksum(y[j] for j in range(NUM_TEAMS)), gp.GRB.MAXIMIZE)\n",
    "\n",
    "# Optimize and analyze the output\n",
    "m.optimize()\n",
    "\n",
    "get_teams(m)"
   ]
  }
 ],
 "metadata": {
  "kernelspec": {
   "display_name": "Python 3.10.4 64-bit ('3.10.4')",
   "language": "python",
   "name": "python3"
  },
  "language_info": {
   "codemirror_mode": {
    "name": "ipython",
    "version": 3
   },
   "file_extension": ".py",
   "mimetype": "text/x-python",
   "name": "python",
   "nbconvert_exporter": "python",
   "pygments_lexer": "ipython3",
   "version": "3.10.4"
  },
  "orig_nbformat": 4,
  "vscode": {
   "interpreter": {
    "hash": "0dd7e8e3354b8973611686f43bf474e859d1fe01a13519cbf9a9cb47617fc657"
   }
  }
 },
 "nbformat": 4,
 "nbformat_minor": 2
}
